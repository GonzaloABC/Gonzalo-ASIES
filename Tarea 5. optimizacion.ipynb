{
 "cells": [
  {
   "cell_type": "markdown",
   "id": "fbd5c990",
   "metadata": {},
   "source": [
    "## Ejercicio 1 "
   ]
  },
  {
   "cell_type": "code",
   "execution_count": 1,
   "id": "da3ef49f",
   "metadata": {},
   "outputs": [
    {
     "name": "stdout",
     "output_type": "stream",
     "text": [
      "Requirement already satisfied: pulp in /opt/anaconda3/lib/python3.11/site-packages (2.8.0)\n",
      "Note: you may need to restart the kernel to use updated packages.\n"
     ]
    }
   ],
   "source": [
    "pip install pulp"
   ]
  },
  {
   "cell_type": "code",
   "execution_count": 2,
   "id": "2a0b7f38",
   "metadata": {},
   "outputs": [],
   "source": [
    "import pulp as pp\n",
    "import pandas as pd"
   ]
  },
  {
   "cell_type": "markdown",
   "id": "b8d5306c",
   "metadata": {},
   "source": [
    "Variables:"
   ]
  },
  {
   "cell_type": "code",
   "execution_count": 3,
   "id": "0cd301de",
   "metadata": {},
   "outputs": [],
   "source": [
    "model = pp.LpProblem(name='Cantidad-suplemento', \n",
    "                     sense=pp.LpMinimize) "
   ]
  },
  {
   "cell_type": "code",
   "execution_count": 4,
   "id": "21dfabb4",
   "metadata": {},
   "outputs": [],
   "source": [
    "VV = pp.LpVariable(name=\"VegaVita\", lowBound=0, cat='Continuous') \n",
    "\n",
    "HH = pp.LpVariable(name=\"HappyHealth\", lowBound=0, cat='Continuous')\n",
    "\n"
   ]
  },
  {
   "cell_type": "code",
   "execution_count": 5,
   "id": "7b445b54",
   "metadata": {},
   "outputs": [],
   "source": [
    "VV_precio=0.2\n",
    "HH_precio=0.3\n",
    "obj_func = VV_precio*VV + HH_precio*HH"
   ]
  },
  {
   "cell_type": "markdown",
   "id": "d1dcd205",
   "metadata": {},
   "source": [
    "Modelo de optimización  "
   ]
  },
  {
   "cell_type": "code",
   "execution_count": 8,
   "id": "f336a3d2",
   "metadata": {},
   "outputs": [],
   "source": [
    "\n",
    "C1=pp.LpConstraint(name=\"VitaminaC\", \n",
    "                    e=20 * VV + 30 * HH, rhs=60, sense=pp.LpConstraintGE) \n",
    "            \n",
    "C2=pp.LpConstraint(name=\"Calcio\", \n",
    "                    e=500*VV + 250*HH,rhs=1000, \n",
    "                    sense=pp.LpConstraintGE) \n",
    "\n",
    "C3=pp.LpConstraint(name=\"Hierro\", \n",
    "                    e=9*VV + 2*HH,rhs=18, \n",
    "                    sense=pp.LpConstraintGE, ) \n",
    "\n",
    "C4=pp.LpConstraint(name=\"Niacina\", \n",
    "                    e=2*VV + 10*HH,rhs=20, \n",
    "                    sense=pp.LpConstraintGE, ) \n",
    "\n",
    "C5=pp.LpConstraint(name=\"Magnesio\", \n",
    "                    e=60*VV + 90*HH,rhs=360, \n",
    "                    sense=pp.LpConstraintGE, ) \n",
    "\n",
    "    "
   ]
  },
  {
   "cell_type": "code",
   "execution_count": 9,
   "id": "8dc60361",
   "metadata": {},
   "outputs": [],
   "source": [
    "#Condicionantes\n",
    "model += obj_func \n",
    "model += C1\n",
    "model += C2\n",
    "model += C3\n",
    "model += C4\n",
    "model += C5"
   ]
  },
  {
   "cell_type": "code",
   "execution_count": 10,
   "id": "5005ec83",
   "metadata": {},
   "outputs": [
    {
     "name": "stdout",
     "output_type": "stream",
     "text": [
      "Welcome to the CBC MILP Solver \n",
      "Version: 2.10.3 \n",
      "Build Date: Dec 15 2019 \n",
      "\n",
      "command line - /opt/anaconda3/lib/python3.11/site-packages/pulp/solverdir/cbc/osx/64/cbc /var/folders/sz/nrdp86f93qz5yk3ps4zqr_qm0000gn/T/efdaef834aba4db0a3117948b59f1478-pulp.mps -timeMode elapsed -branch -printingOptions all -solution /var/folders/sz/nrdp86f93qz5yk3ps4zqr_qm0000gn/T/efdaef834aba4db0a3117948b59f1478-pulp.sol (default strategy 1)\n",
      "At line 2 NAME          MODEL\n",
      "At line 3 ROWS\n",
      "At line 10 COLUMNS\n",
      "At line 23 RHS\n",
      "At line 29 BOUNDS\n",
      "At line 30 ENDATA\n",
      "Problem MODEL has 5 rows, 2 columns and 10 elements\n",
      "Coin0008I MODEL read with 0 errors\n",
      "Option for timeMode changed from cpu to elapsed\n",
      "Presolve 5 (0) rows, 2 (0) columns and 10 (0) elements\n",
      "0  Obj 0 Primal inf 11.999999 (5)\n",
      "2  Obj 1.2\n",
      "Optimal - objective value 1.2\n",
      "Optimal objective 1.2 - 2 iterations time 0.002\n",
      "Option for printingOptions changed from normal to all\n",
      "Total time (CPU seconds):       0.00   (Wallclock seconds):       0.00\n",
      "\n"
     ]
    }
   ],
   "source": [
    "solverToUse = pp.COIN_CMD(msg=False)\n",
    "model.solve();\n"
   ]
  },
  {
   "cell_type": "code",
   "execution_count": 11,
   "id": "119cdff1",
   "metadata": {},
   "outputs": [
    {
     "data": {
      "text/plain": [
       "{'Model Status': 'Optimal',\n",
       " 'Optimal Solution': 1.2,\n",
       " 'HappyHealth': 3.1304348,\n",
       " 'VegaVita': 1.3043478}"
      ]
     },
     "execution_count": 11,
     "metadata": {},
     "output_type": "execute_result"
    }
   ],
   "source": [
    "import pandas as pd\n",
    "\n",
    "Results={\"Model Status\":pp.LpStatus[model.status]}\n",
    "Results.update({\"Optimal Solution\":pp.value(model.objective)})\n",
    "Results.update({v.name: v.varValue for v in model.variables()})\n",
    "Results"
   ]
  },
  {
   "cell_type": "code",
   "execution_count": 12,
   "id": "ab8d8507",
   "metadata": {
    "scrolled": true
   },
   "outputs": [
    {
     "name": "stderr",
     "output_type": "stream",
     "text": [
      "Fontconfig warning: ignoring UTF-8: not a valid region tag\n"
     ]
    },
    {
     "data": {
      "text/html": [
       "<style type=\"text/css\">\n",
       "</style>\n",
       "<table id=\"T_e38f3\">\n",
       "  <thead>\n",
       "    <tr>\n",
       "      <th class=\"blank level0\" >&nbsp;</th>\n",
       "      <th id=\"T_e38f3_level0_col0\" class=\"col_heading level0 col0\" >Optimal Solution</th>\n",
       "      <th id=\"T_e38f3_level0_col1\" class=\"col_heading level0 col1\" >HappyHealth</th>\n",
       "      <th id=\"T_e38f3_level0_col2\" class=\"col_heading level0 col2\" >VegaVita</th>\n",
       "    </tr>\n",
       "    <tr>\n",
       "      <th class=\"index_name level0\" >Model Status</th>\n",
       "      <th class=\"blank col0\" >&nbsp;</th>\n",
       "      <th class=\"blank col1\" >&nbsp;</th>\n",
       "      <th class=\"blank col2\" >&nbsp;</th>\n",
       "    </tr>\n",
       "  </thead>\n",
       "  <tbody>\n",
       "    <tr>\n",
       "      <th id=\"T_e38f3_level0_row0\" class=\"row_heading level0 row0\" >Optimal</th>\n",
       "      <td id=\"T_e38f3_row0_col0\" class=\"data row0 col0\" >1.2</td>\n",
       "      <td id=\"T_e38f3_row0_col1\" class=\"data row0 col1\" >3.1304348</td>\n",
       "      <td id=\"T_e38f3_row0_col2\" class=\"data row0 col2\" >1.3043478</td>\n",
       "    </tr>\n",
       "  </tbody>\n",
       "</table>\n"
      ],
      "text/plain": [
       "<pandas.io.formats.style.Styler at 0x127035a10>"
      ]
     },
     "execution_count": 12,
     "metadata": {},
     "output_type": "execute_result"
    }
   ],
   "source": [
    "pd.DataFrame.from_dict(Results,orient='index').T.set_index('Model Status').style.format('{:,}')"
   ]
  }
 ],
 "metadata": {
  "kernelspec": {
   "display_name": "Python 3 (ipykernel)",
   "language": "python",
   "name": "python3"
  },
  "language_info": {
   "codemirror_mode": {
    "name": "ipython",
    "version": 3
   },
   "file_extension": ".py",
   "mimetype": "text/x-python",
   "name": "python",
   "nbconvert_exporter": "python",
   "pygments_lexer": "ipython3",
   "version": "3.11.7"
  }
 },
 "nbformat": 4,
 "nbformat_minor": 5
}
