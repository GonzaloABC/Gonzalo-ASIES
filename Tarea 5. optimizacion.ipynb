{
 "cells": [
  {
   "cell_type": "markdown",
   "id": "fbd5c990",
   "metadata": {},
   "source": [
    "## Ejercicio 1 "
   ]
  },
  {
   "cell_type": "code",
   "execution_count": 1,
   "id": "f1fcf739",
   "metadata": {},
   "outputs": [
    {
     "name": "stdout",
     "output_type": "stream",
     "text": [
      "Requirement already satisfied: pulp in /opt/anaconda3/lib/python3.11/site-packages (2.8.0)\n",
      "Note: you may need to restart the kernel to use updated packages.\n"
     ]
    }
   ],
   "source": [
    "pip install pulp"
   ]
  },
  {
   "cell_type": "code",
   "execution_count": 2,
   "id": "2a0b7f38",
   "metadata": {},
   "outputs": [],
   "source": [
    "import pulp as pp\n",
    "import pandas as pd"
   ]
  },
  {
   "cell_type": "markdown",
   "id": "b8d5306c",
   "metadata": {},
   "source": [
    "Variables:"
   ]
  },
  {
   "cell_type": "code",
   "execution_count": 3,
   "id": "0cd301de",
   "metadata": {},
   "outputs": [],
   "source": [
    "model = pp.LpProblem(name='Cantidad-suplemento', \n",
    "                     sense=pp.LpMinimize) "
   ]
  },
  {
   "cell_type": "code",
   "execution_count": 4,
   "id": "21dfabb4",
   "metadata": {},
   "outputs": [],
   "source": [
    "VV = pp.LpVariable(name=\"VegaVita\", lowBound=0, cat='Continuous') \n",
    "\n",
    "HH = pp.LpVariable(name=\"HappyHealth\", lowBound=0, cat='Continuous')\n",
    "\n"
   ]
  },
  {
   "cell_type": "code",
   "execution_count": 5,
   "id": "7b445b54",
   "metadata": {},
   "outputs": [],
   "source": [
    "VV_precio=0.2\n",
    "HH_precio=0.3\n",
    "obj_func = VV_precio*VV + HH_precio*HH"
   ]
  },
  {
   "cell_type": "markdown",
   "id": "8464b758",
   "metadata": {},
   "source": [
    "Cifras de los suplementos:"
   ]
  },
  {
   "cell_type": "code",
   "execution_count": 15,
   "id": "94cf6d50",
   "metadata": {},
   "outputs": [],
   "source": [
    "Nutrientes = ['Vitamina N', 'Calcio', 'Hierro', 'Niacina', 'Magnesio']\n",
    "VegaV = [20, 500, 9, 2, 60]\n",
    "HappyH = [30, 250, 2, 10, 90]\n",
    "Necesidad_paciente = [60, 1000, 18, 20, 360]\n",
    "\n",
    "Tabla= pd.DataFrame({'Nutrientes': Nutrientes,'VV (mg)': VegaV,'HH (mg)': HappyH,'Necesidad Paciente (mg)': Necesidad_paciente})"
   ]
  },
  {
   "cell_type": "code",
   "execution_count": 16,
   "id": "7e22b89e",
   "metadata": {},
   "outputs": [
    {
     "data": {
      "text/html": [
       "<div>\n",
       "<style scoped>\n",
       "    .dataframe tbody tr th:only-of-type {\n",
       "        vertical-align: middle;\n",
       "    }\n",
       "\n",
       "    .dataframe tbody tr th {\n",
       "        vertical-align: top;\n",
       "    }\n",
       "\n",
       "    .dataframe thead th {\n",
       "        text-align: right;\n",
       "    }\n",
       "</style>\n",
       "<table border=\"1\" class=\"dataframe\">\n",
       "  <thead>\n",
       "    <tr style=\"text-align: right;\">\n",
       "      <th></th>\n",
       "      <th>Nutrientes</th>\n",
       "      <th>VV (mg)</th>\n",
       "      <th>HH (mg)</th>\n",
       "      <th>Necesidad Paciente (mg)</th>\n",
       "    </tr>\n",
       "  </thead>\n",
       "  <tbody>\n",
       "    <tr>\n",
       "      <th>0</th>\n",
       "      <td>Vitamina N</td>\n",
       "      <td>20</td>\n",
       "      <td>30</td>\n",
       "      <td>60</td>\n",
       "    </tr>\n",
       "    <tr>\n",
       "      <th>1</th>\n",
       "      <td>Calcio</td>\n",
       "      <td>500</td>\n",
       "      <td>250</td>\n",
       "      <td>1000</td>\n",
       "    </tr>\n",
       "    <tr>\n",
       "      <th>2</th>\n",
       "      <td>Hierro</td>\n",
       "      <td>9</td>\n",
       "      <td>2</td>\n",
       "      <td>18</td>\n",
       "    </tr>\n",
       "    <tr>\n",
       "      <th>3</th>\n",
       "      <td>Niacina</td>\n",
       "      <td>2</td>\n",
       "      <td>10</td>\n",
       "      <td>20</td>\n",
       "    </tr>\n",
       "    <tr>\n",
       "      <th>4</th>\n",
       "      <td>Magnesio</td>\n",
       "      <td>60</td>\n",
       "      <td>90</td>\n",
       "      <td>360</td>\n",
       "    </tr>\n",
       "  </tbody>\n",
       "</table>\n",
       "</div>"
      ],
      "text/plain": [
       "   Nutrientes  VV (mg)  HH (mg)  Necesidad Paciente (mg)\n",
       "0  Vitamina N       20       30                       60\n",
       "1      Calcio      500      250                     1000\n",
       "2      Hierro        9        2                       18\n",
       "3     Niacina        2       10                       20\n",
       "4    Magnesio       60       90                      360"
      ]
     },
     "execution_count": 16,
     "metadata": {},
     "output_type": "execute_result"
    }
   ],
   "source": [
    "Tabla"
   ]
  },
  {
   "cell_type": "markdown",
   "id": "d1dcd205",
   "metadata": {},
   "source": [
    "Modelo de optimización  "
   ]
  },
  {
   "cell_type": "code",
   "execution_count": 17,
   "id": "f336a3d2",
   "metadata": {},
   "outputs": [],
   "source": [
    "\n",
    "C1=pp.LpConstraint(name=\"VitaminaC\", \n",
    "                    e=20 * VV + 30 * HH, rhs=60, sense=pp.LpConstraintGE) \n",
    "            \n",
    "C2=pp.LpConstraint(name=\"Calcio\", \n",
    "                    e=500*VV + 250*HH,rhs=1000, \n",
    "                    sense=pp.LpConstraintGE) \n",
    "\n",
    "C3=pp.LpConstraint(name=\"Hierro\", \n",
    "                    e=9*VV + 2*HH,rhs=18, \n",
    "                    sense=pp.LpConstraintGE, ) \n",
    "\n",
    "C4=pp.LpConstraint(name=\"Niacina\", \n",
    "                    e=2*VV + 10*HH,rhs=20, \n",
    "                    sense=pp.LpConstraintGE, ) \n",
    "\n",
    "C5=pp.LpConstraint(name=\"Magnesio\", \n",
    "                    e=60*VV + 90*HH,rhs=360, \n",
    "                    sense=pp.LpConstraintGE, ) \n",
    "\n",
    "    "
   ]
  },
  {
   "cell_type": "code",
   "execution_count": 42,
   "id": "8dc60361",
   "metadata": {},
   "outputs": [
    {
     "ename": "PulpError",
     "evalue": "overlapping constraint names: Vitamina_A",
     "output_type": "error",
     "traceback": [
      "\u001b[0;31m---------------------------------------------------------------------------\u001b[0m",
      "\u001b[0;31mPulpError\u001b[0m                                 Traceback (most recent call last)",
      "Cell \u001b[0;32mIn[42], line 3\u001b[0m\n\u001b[1;32m      1\u001b[0m \u001b[38;5;66;03m#Condicionantes\u001b[39;00m\n\u001b[1;32m      2\u001b[0m model \u001b[38;5;241m+\u001b[39m\u001b[38;5;241m=\u001b[39m obj_func \n\u001b[0;32m----> 3\u001b[0m model \u001b[38;5;241m+\u001b[39m\u001b[38;5;241m=\u001b[39m C1\n\u001b[1;32m      4\u001b[0m model \u001b[38;5;241m+\u001b[39m\u001b[38;5;241m=\u001b[39m C2\n\u001b[1;32m      5\u001b[0m model \u001b[38;5;241m+\u001b[39m\u001b[38;5;241m=\u001b[39m C3\n",
      "File \u001b[0;32m/opt/anaconda3/lib/python3.11/site-packages/pulp/pulp.py:1665\u001b[0m, in \u001b[0;36mLpProblem.__iadd__\u001b[0;34m(self, other)\u001b[0m\n\u001b[1;32m   1663\u001b[0m     \u001b[38;5;28mself\u001b[39m\u001b[38;5;241m.\u001b[39maddConstraint(other\u001b[38;5;241m.\u001b[39mconstraint)\n\u001b[1;32m   1664\u001b[0m \u001b[38;5;28;01melif\u001b[39;00m \u001b[38;5;28misinstance\u001b[39m(other, LpConstraint):\n\u001b[0;32m-> 1665\u001b[0m     \u001b[38;5;28mself\u001b[39m\u001b[38;5;241m.\u001b[39maddConstraint(other, name)\n\u001b[1;32m   1666\u001b[0m \u001b[38;5;28;01melif\u001b[39;00m \u001b[38;5;28misinstance\u001b[39m(other, LpAffineExpression):\n\u001b[1;32m   1667\u001b[0m     \u001b[38;5;28;01mif\u001b[39;00m \u001b[38;5;28mself\u001b[39m\u001b[38;5;241m.\u001b[39mobjective \u001b[38;5;129;01mis\u001b[39;00m \u001b[38;5;129;01mnot\u001b[39;00m \u001b[38;5;28;01mNone\u001b[39;00m:\n",
      "File \u001b[0;32m/opt/anaconda3/lib/python3.11/site-packages/pulp/pulp.py:1625\u001b[0m, in \u001b[0;36mLpProblem.addConstraint\u001b[0;34m(self, constraint, name)\u001b[0m\n\u001b[1;32m   1623\u001b[0m \u001b[38;5;28;01mif\u001b[39;00m name \u001b[38;5;129;01min\u001b[39;00m \u001b[38;5;28mself\u001b[39m\u001b[38;5;241m.\u001b[39mconstraints:\n\u001b[1;32m   1624\u001b[0m     \u001b[38;5;28;01mif\u001b[39;00m \u001b[38;5;28mself\u001b[39m\u001b[38;5;241m.\u001b[39mnoOverlap:\n\u001b[0;32m-> 1625\u001b[0m         \u001b[38;5;28;01mraise\u001b[39;00m const\u001b[38;5;241m.\u001b[39mPulpError(\u001b[38;5;124m\"\u001b[39m\u001b[38;5;124moverlapping constraint names: \u001b[39m\u001b[38;5;124m\"\u001b[39m \u001b[38;5;241m+\u001b[39m name)\n\u001b[1;32m   1626\u001b[0m     \u001b[38;5;28;01melse\u001b[39;00m:\n\u001b[1;32m   1627\u001b[0m         \u001b[38;5;28mprint\u001b[39m(\u001b[38;5;124m\"\u001b[39m\u001b[38;5;124mWarning: overlapping constraint names:\u001b[39m\u001b[38;5;124m\"\u001b[39m, name)\n",
      "\u001b[0;31mPulpError\u001b[0m: overlapping constraint names: Vitamina_A"
     ]
    }
   ],
   "source": [
    "#Condicionantes\n",
    "model += obj_func \n",
    "model += C1\n",
    "model += C2\n",
    "model += C3\n",
    "model += C4\n",
    "model += C5"
   ]
  },
  {
   "cell_type": "code",
   "execution_count": 9,
   "id": "5005ec83",
   "metadata": {},
   "outputs": [],
   "source": [
    "solverToUse = pp.COIN_CMD(msg=False)\n",
    "model.solve();\n"
   ]
  },
  {
   "cell_type": "code",
   "execution_count": 10,
   "id": "119cdff1",
   "metadata": {},
   "outputs": [
    {
     "data": {
      "text/plain": [
       "{'Model Status': 'Optimal',\n",
       " 'Optimal Solution': 1.2,\n",
       " 'HappyHealth': 3.1304348,\n",
       " 'VegaVita': 1.3043478}"
      ]
     },
     "execution_count": 10,
     "metadata": {},
     "output_type": "execute_result"
    }
   ],
   "source": [
    "import pandas as pd\n",
    "\n",
    "Results={\"Model Status\":pp.LpStatus[model.status]}\n",
    "Results.update({\"Optimal Solution\":pp.value(model.objective)})\n",
    "Results.update({v.name: v.varValue for v in model.variables()})\n",
    "Results"
   ]
  },
  {
   "cell_type": "code",
   "execution_count": 11,
   "id": "ab8d8507",
   "metadata": {
    "scrolled": true
   },
   "outputs": [
    {
     "data": {
      "text/html": [
       "<style type=\"text/css\">\n",
       "</style>\n",
       "<table id=\"T_96408\">\n",
       "  <thead>\n",
       "    <tr>\n",
       "      <th class=\"blank level0\" >&nbsp;</th>\n",
       "      <th id=\"T_96408_level0_col0\" class=\"col_heading level0 col0\" >Optimal Solution</th>\n",
       "      <th id=\"T_96408_level0_col1\" class=\"col_heading level0 col1\" >HappyHealth</th>\n",
       "      <th id=\"T_96408_level0_col2\" class=\"col_heading level0 col2\" >VegaVita</th>\n",
       "    </tr>\n",
       "    <tr>\n",
       "      <th class=\"index_name level0\" >Model Status</th>\n",
       "      <th class=\"blank col0\" >&nbsp;</th>\n",
       "      <th class=\"blank col1\" >&nbsp;</th>\n",
       "      <th class=\"blank col2\" >&nbsp;</th>\n",
       "    </tr>\n",
       "  </thead>\n",
       "  <tbody>\n",
       "    <tr>\n",
       "      <th id=\"T_96408_level0_row0\" class=\"row_heading level0 row0\" >Optimal</th>\n",
       "      <td id=\"T_96408_row0_col0\" class=\"data row0 col0\" >1.2</td>\n",
       "      <td id=\"T_96408_row0_col1\" class=\"data row0 col1\" >3.1304348</td>\n",
       "      <td id=\"T_96408_row0_col2\" class=\"data row0 col2\" >1.3043478</td>\n",
       "    </tr>\n",
       "  </tbody>\n",
       "</table>\n"
      ],
      "text/plain": [
       "<pandas.io.formats.style.Styler at 0x1ea5a31a7d0>"
      ]
     },
     "execution_count": 11,
     "metadata": {},
     "output_type": "execute_result"
    }
   ],
   "source": [
    "pd.DataFrame.from_dict(Results,orient='index').T.set_index('Model Status').style.format('{:,}')"
   ]
  },
  {
   "cell_type": "code",
   "execution_count": null,
   "id": "26d65fd7",
   "metadata": {},
   "outputs": [],
   "source": []
  }
 ],
 "metadata": {
  "kernelspec": {
   "display_name": "Python 3 (ipykernel)",
   "language": "python",
   "name": "python3"
  },
  "language_info": {
   "codemirror_mode": {
    "name": "ipython",
    "version": 3
   },
   "file_extension": ".py",
   "mimetype": "text/x-python",
   "name": "python",
   "nbconvert_exporter": "python",
   "pygments_lexer": "ipython3",
   "version": "3.11.7"
  }
 },
 "nbformat": 4,
 "nbformat_minor": 5
}
